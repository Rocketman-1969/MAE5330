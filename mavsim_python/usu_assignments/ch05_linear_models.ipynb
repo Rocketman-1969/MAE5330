{
 "cells": [
  {
   "attachments": {},
   "cell_type": "markdown",
   "metadata": {},
   "source": [
    "## Problem 1: Creating trim trajectory calculator\n",
    "A trim state and input produce constant dynamic outputs. One way to produce the trim states and inputs is to solve an optimization problem that results in the desired trim state derivative. Consider the objective function defined as\n",
    "\n",
    "$$\n",
    "    \\min_{x_{trim}, \\delta_{trim}} \\bigl( f(x_{trim}, \\delta_{trim}) - f_d \\bigr)^T Q \\bigl( f(x_{trim}, \\delta_{trim}) - f_d \\bigr)\n",
    "$$\n",
    "where $f(x_{trim}, \\delta_{trim})$ denotes the dynamics given the trim state and input, $f_d$ denotes the desired dynamics, and $Q \\succeq 0$ is a diagonal matrix with weights along the diagonal. If possible, the optimization will produce trim states and inputs such that $f = f_d$. \n",
    "\n",
    "Implement the following functions in `chap5\\trim.py` using the cost and constraints discussed in lecture and described in the function docstrings.\n",
    "* `velocity_constraint`\n",
    "* `velocity_constraint_partial`\n",
    "* `variable_bounds`\n",
    "* `trim_objective_fun`"
   ]
  },
  {
   "cell_type": "code",
   "execution_count": 1,
   "metadata": {},
   "outputs": [
    {
     "name": "stdout",
     "output_type": "stream",
     "text": [
      "Initializing mav_view\n",
      "Initializing data_view\n"
     ]
    }
   ],
   "source": [
    "# Note that this cell can be run separately to initialize for other cell blocks\n",
    "import numpy as np\n",
    "from mav_sim.chap3.mav_dynamics import DynamicState\n",
    "from mav_sim.chap4.run_sim import run_sim\n",
    "from mav_sim.message_types.msg_sim_params import MsgSimParams\n",
    "from mav_sim.message_types.msg_delta import MsgDelta\n",
    "from mav_sim.tools.display_figures import display_data_view, display_mav_view\n",
    "from mav_sim.chap2.mav_viewer import MavViewer\n",
    "from mav_sim.chap3.data_viewer import DataViewer\n",
    "from mav_sim.chap5.trim import compute_trim\n",
    "from IPython.display import display # Used to display variables nicely in Jupyter\n",
    "from mav_sim.chap3.mav_dynamics import DynamicState, derivatives\n",
    "from mav_sim.chap4.mav_dynamics import forces_moments, update_velocity_data\n",
    "from mav_sim.tools.signals import Signals\n",
    "\n",
    "# The viewers need to be initialized once due to restart issues with qtgraph\n",
    "if 'mav_view' not in globals():\n",
    "    print(\"Initializing mav_view\")\n",
    "    global mav_view\n",
    "    mav_view = MavViewer()  # initialize the mav viewer\n",
    "if 'data_view' not in globals():\n",
    "    print(\"Initializing data_view\")\n",
    "    global data_view\n",
    "    data_view = DataViewer()  # initialize view of data plots\n",
    "\n",
    "# Initialize state values\n",
    "sim_params = MsgSimParams(end_time=40., video_name=\"chap5.avi\") \n",
    "state = DynamicState()\n",
    "\n",
    "# Functions used below\n",
    "def run_sim_and_display(delta_fnc, init_state):\n",
    "    global mav_view\n",
    "    global data_view\n",
    "    data_view.reset(sim_params.start_time)\n",
    "    (mav_view, data_view) = run_sim(sim_params, delta_fnc, DynamicState(init_state), mav_view, data_view)\n",
    "    display_data_view(data_view)\n",
    "    display_mav_view(mav_view)"
   ]
  },
  {
   "attachments": {},
   "cell_type": "markdown",
   "metadata": {},
   "source": [
    "## Problem 2 - Calculate Trim\n",
    "Do the following:\n",
    "1. Compute a trim state and input for $V_a = 25 \\frac{m}{s}$, $\\gamma = 0$, and $R=\\infty$\n",
    "2. Show that the resulting dynamics are close to the desired dynamics\n",
    "3. Simulate the state and show that the trim values are achieved for a period before numerical errors enter the system\n",
    "\n",
    "Keep in mind the following when comparing results:\n",
    "* $\\dot{p_n}$ and $\\dot{p_e}$ are not important\n",
    "* Your trim state dynamics will not be exact, but they should be close"
   ]
  },
  {
   "cell_type": "code",
   "execution_count": 4,
   "metadata": {},
   "outputs": [
    {
     "name": "stdout",
     "output_type": "stream",
     "text": [
      "trim_state = \n"
     ]
    },
    {
     "data": {
      "text/plain": [
       "array([[ 2.33780301e-15],\n",
       "       [ 1.06848215e-13],\n",
       "       [-1.00000000e+02],\n",
       "       [ 2.49686227e+01],\n",
       "       [ 3.41560020e-21],\n",
       "       [ 1.25215085e+00],\n",
       "       [ 9.99686174e-01],\n",
       "       [-8.30798876e-05],\n",
       "       [ 2.50508635e-02],\n",
       "       [ 2.08187627e-06],\n",
       "       [ 0.00000000e+00],\n",
       "       [ 1.00000000e-12],\n",
       "       [-7.27617764e-09]])"
      ]
     },
     "metadata": {},
     "output_type": "display_data"
    },
    {
     "name": "stdout",
     "output_type": "stream",
     "text": [
      "trim input = \n",
      "elevator= -0.12504364980534477 aileron= 0.0018374628776184588 rudder= -0.0002928845828021304 throttle= 0.6767758538398608\n"
     ]
    },
    {
     "ename": "AttributeError",
     "evalue": "'DynamicState' object has no attribute 'item'",
     "output_type": "error",
     "traceback": [
      "\u001b[1;31m---------------------------------------------------------------------------\u001b[0m",
      "\u001b[1;31mAttributeError\u001b[0m                            Traceback (most recent call last)",
      "Cell \u001b[1;32mIn[4], line 28\u001b[0m\n\u001b[0;32m     14\u001b[0m desired_trim_state_dot \u001b[38;5;241m=\u001b[39m np\u001b[38;5;241m.\u001b[39marray(([\u001b[38;5;241m0.\u001b[39m],\n\u001b[0;32m     15\u001b[0m                        [\u001b[38;5;241m0.\u001b[39m],\n\u001b[0;32m     16\u001b[0m                        [\u001b[38;5;241m-\u001b[39mVa_trim\u001b[38;5;241m*\u001b[39mnp\u001b[38;5;241m.\u001b[39msin(gamma_trim)],\n\u001b[1;32m   (...)\u001b[0m\n\u001b[0;32m     24\u001b[0m                        [\u001b[38;5;241m0.\u001b[39m],\n\u001b[0;32m     25\u001b[0m                        [\u001b[38;5;241m0.\u001b[39m]))\n\u001b[0;32m     27\u001b[0m \u001b[38;5;66;03m# Calculate the actual state dynamics\u001b[39;00m\n\u001b[1;32m---> 28\u001b[0m f \u001b[38;5;241m=\u001b[39m \u001b[43mforces_moments\u001b[49m\u001b[43m(\u001b[49m\u001b[43mstate\u001b[49m\u001b[43m,\u001b[49m\u001b[43mtrim_input\u001b[49m\u001b[43m,\u001b[49m\u001b[43mVa_trim\u001b[49m\u001b[43m,\u001b[49m\u001b[38;5;241;43m0\u001b[39;49m\u001b[43m,\u001b[49m\u001b[38;5;241;43m0\u001b[39;49m\u001b[43m)\u001b[49m\n\u001b[0;32m     29\u001b[0m \u001b[38;5;28mprint\u001b[39m(\u001b[38;5;124m\"\u001b[39m\u001b[38;5;124mNeed to implement\u001b[39m\u001b[38;5;124m\"\u001b[39m)\n\u001b[0;32m     31\u001b[0m \u001b[38;5;66;03m# Display the difference\u001b[39;00m\n",
      "File \u001b[1;32mc:\\users\\a02303304\\mae5330\\mavsim_python\\mav_sim\\chap4\\mav_dynamics.py:216\u001b[0m, in \u001b[0;36mforces_moments\u001b[1;34m(state, delta, Va, beta, alpha)\u001b[0m\n\u001b[0;32m    212\u001b[0m Cz_q\u001b[38;5;241m=\u001b[39m\u001b[38;5;241m-\u001b[39mMAV\u001b[38;5;241m.\u001b[39mC_D_q\u001b[38;5;241m*\u001b[39mnp\u001b[38;5;241m.\u001b[39msin(alpha)\u001b[38;5;241m-\u001b[39mMAV\u001b[38;5;241m.\u001b[39mC_L_q\u001b[38;5;241m*\u001b[39mnp\u001b[38;5;241m.\u001b[39mcos(alpha)\n\u001b[0;32m    214\u001b[0m Cz_de\u001b[38;5;241m=\u001b[39m\u001b[38;5;241m-\u001b[39mMAV\u001b[38;5;241m.\u001b[39mC_D_delta_e\u001b[38;5;241m*\u001b[39mnp\u001b[38;5;241m.\u001b[39msin(alpha)\u001b[38;5;241m-\u001b[39mMAV\u001b[38;5;241m.\u001b[39mC_L_delta_e\u001b[38;5;241m*\u001b[39mnp\u001b[38;5;241m.\u001b[39mcos(alpha)\n\u001b[1;32m--> 216\u001b[0m st\u001b[38;5;241m=\u001b[39m\u001b[43mDynamicState\u001b[49m\u001b[43m(\u001b[49m\u001b[43mstate\u001b[49m\u001b[43m)\u001b[49m\n\u001b[0;32m    218\u001b[0m [TP,QP]\u001b[38;5;241m=\u001b[39mmotor_thrust_torque(Va,delta\u001b[38;5;241m.\u001b[39mthrottle)\n\u001b[0;32m    220\u001b[0m [phi,theta,_]\u001b[38;5;241m=\u001b[39mQuaternion2Euler(state[IND\u001b[38;5;241m.\u001b[39mQUAT])\n",
      "File \u001b[1;32mc:\\users\\a02303304\\mae5330\\mavsim_python\\mav_sim\\chap3\\mav_dynamics.py:68\u001b[0m, in \u001b[0;36mDynamicState.__init__\u001b[1;34m(self, state)\u001b[0m\n\u001b[0;32m     65\u001b[0m \u001b[38;5;28mself\u001b[39m\u001b[38;5;241m.\u001b[39mq: \u001b[38;5;28mfloat\u001b[39m         \u001b[38;5;66;03m# pitch rate - body frame - j\u001b[39;00m\n\u001b[0;32m     66\u001b[0m \u001b[38;5;28mself\u001b[39m\u001b[38;5;241m.\u001b[39mr: \u001b[38;5;28mfloat\u001b[39m         \u001b[38;5;66;03m# yaw rate - body frame - k\u001b[39;00m\n\u001b[1;32m---> 68\u001b[0m \u001b[38;5;28;43mself\u001b[39;49m\u001b[38;5;241;43m.\u001b[39;49m\u001b[43mextract_state\u001b[49m\u001b[43m(\u001b[49m\u001b[43mstate\u001b[49m\u001b[43m)\u001b[49m\n",
      "File \u001b[1;32mc:\\users\\a02303304\\mae5330\\mavsim_python\\mav_sim\\chap3\\mav_dynamics.py:94\u001b[0m, in \u001b[0;36mDynamicState.extract_state\u001b[1;34m(self, state)\u001b[0m\n\u001b[0;32m     92\u001b[0m     \u001b[38;5;28mself\u001b[39m\u001b[38;5;241m.\u001b[39mr \u001b[38;5;241m=\u001b[39m MAV\u001b[38;5;241m.\u001b[39mr0         \u001b[38;5;66;03m# yaw rate - body frame - k\u001b[39;00m\n\u001b[0;32m     93\u001b[0m \u001b[38;5;28;01melse\u001b[39;00m:\n\u001b[1;32m---> 94\u001b[0m     \u001b[38;5;28mself\u001b[39m\u001b[38;5;241m.\u001b[39mnorth \u001b[38;5;241m=\u001b[39m \u001b[43mstate\u001b[49m\u001b[38;5;241;43m.\u001b[39;49m\u001b[43mitem\u001b[49m(IND\u001b[38;5;241m.\u001b[39mNORTH)\n\u001b[0;32m     95\u001b[0m     \u001b[38;5;28mself\u001b[39m\u001b[38;5;241m.\u001b[39meast \u001b[38;5;241m=\u001b[39m  state\u001b[38;5;241m.\u001b[39mitem(IND\u001b[38;5;241m.\u001b[39mEAST)\n\u001b[0;32m     96\u001b[0m     \u001b[38;5;28mself\u001b[39m\u001b[38;5;241m.\u001b[39mdown \u001b[38;5;241m=\u001b[39m  state\u001b[38;5;241m.\u001b[39mitem(IND\u001b[38;5;241m.\u001b[39mDOWN)\n",
      "\u001b[1;31mAttributeError\u001b[0m: 'DynamicState' object has no attribute 'item'"
     ]
    }
   ],
   "source": [
    "# Create the trim state\n",
    "Va_trim = 25.\n",
    "gamma_trim = 0.\n",
    "R=np.inf\n",
    "trim_state, trim_input = compute_trim(state.convert_to_numpy(), Va_trim, gamma_trim,R)\n",
    "\n",
    "# Display the trim state and input\n",
    "print('trim_state = ')\n",
    "display(trim_state)\n",
    "print('trim input = ')\n",
    "trim_input.print()\n",
    "\n",
    "# Calculate the desired state dynamics\n",
    "desired_trim_state_dot = np.array(([0.],\n",
    "                       [0.],\n",
    "                       [-Va_trim*np.sin(gamma_trim)],\n",
    "                       [0.],\n",
    "                       [0.],\n",
    "                       [0.],\n",
    "                       [0.],\n",
    "                       [0.],\n",
    "                       [0.],\n",
    "                       [0.],\n",
    "                       [0.],\n",
    "                       [0.]))\n",
    "\n",
    "# Calculate the actual state dynamics\n",
    "f = forces_moments(euler_state_quat(state),trim_input,Va_trim,0,0)\n",
    "print(\"Need to implement\")\n",
    "\n",
    "# Display the difference\n",
    "f_diff = f - desired_trim_state_dot\n",
    "print(\"Difference between actual and desired (Note that pn and pe are not important):\")\n",
    "display(f_diff)\n",
    "\n",
    "# Create a passthrough function for the trim input\n",
    "pass_delta2 = lambda sim_time: trim_input\n",
    "run_sim_and_display(pass_delta2, trim_state)"
   ]
  },
  {
   "attachments": {},
   "cell_type": "markdown",
   "metadata": {},
   "source": [
    "## Problem 3 - Trim Calculations\n",
    "Repeat problem 2 with $V_a = 25 \\frac{m}{s}$, $\\gamma = 5$ degrees, and $R=\\infty$\n"
   ]
  },
  {
   "cell_type": "code",
   "execution_count": null,
   "metadata": {},
   "outputs": [],
   "source": [
    "print(\"Need to implement\")"
   ]
  },
  {
   "attachments": {},
   "cell_type": "markdown",
   "metadata": {},
   "source": [
    "## Problem 4 - Trim Calculations\n",
    "Repeat problem 2 with $V_a = 30 \\frac{m}{s}$, $\\gamma = 3$ degrees, and $R=800 m$ "
   ]
  },
  {
   "cell_type": "code",
   "execution_count": null,
   "metadata": {},
   "outputs": [],
   "source": [
    "print(\"Need to implement\")"
   ]
  },
  {
   "attachments": {},
   "cell_type": "markdown",
   "metadata": {},
   "source": [
    "## Problem 5 - Evaluate Eigenvalues of Longitudinal System\n",
    "The `compute_ss_model(...)` function inside `chap5\\compute_models.py` provides a numerical approximation for the models described in (5.44) and (5.51). \n",
    "\n",
    "For the trim trajectory corresponding to $V_a = 25 \\frac{m}{s}$ and $\\gamma = 0$, do the following:\n",
    "* Calculate the eigenvalues of $A_{lon}$ and $A_{lat}$\n",
    "* Answer the questions below\n",
    "\n",
    "### Question: Which eigenvalue(s) correspond to the short-period mode?\n",
    "(Answer here)\n",
    "\n",
    "### Question: Which eigenvalue(s) correspond to the phugoid mode?\n",
    "(Answer here)\n",
    "\n",
    "### Question: Which eigenvalue(s) corresponds to the spiral-divergence mode?\n",
    "(Answer here)\n",
    "\n",
    "### Question: Which eigenvalue(s) corresponds to the roll mode?\n",
    "(Answer here)\n",
    "\n",
    "### Question: Which eigenvalue(s) corresponds to the dutch-roll mode?\n",
    "(Answer here)\n"
   ]
  },
  {
   "cell_type": "code",
   "execution_count": null,
   "metadata": {},
   "outputs": [],
   "source": [
    "from mav_sim.chap5.compute_models import compute_ss_model\n",
    "\n",
    "# Compute the trim state and input\n",
    "\n",
    "# Compute A_lon and A_lat\n",
    "\n",
    "# Compute the eigenvalues of A_lon \n",
    "\n",
    "# Compute the eigenvalues of A_lat \n"
   ]
  },
  {
   "cell_type": "markdown",
   "metadata": {},
   "source": [
    "## Problem 6 - Phugoid mode\n",
    "For the trim trajectory corresponding to $V_a = 25 \\frac{m}{s}$ and $\\gamma = 0$, use a doublet to excite the phugoid mode. Simulate the response. (Note that this problem is provided for you)"
   ]
  },
  {
   "cell_type": "code",
   "execution_count": null,
   "metadata": {},
   "outputs": [],
   "source": [
    "# Create the trim state\n",
    "Va_trim = 25.\n",
    "gamma_trim = 0.\n",
    "trim_state, trim_input = compute_trim(state.convert_to_numpy(), Va_trim, gamma_trim)\n",
    "\n",
    "# Create an input signal\n",
    "input_signal = Signals(amplitude=0.3,\n",
    "                    duration=0.3,\n",
    "                    start_time=5.0)\n",
    "\n",
    "# Create a function for exciting the phugoid mode\n",
    "def excite_phugoid(sim_time: float):\n",
    "    # copy the trim command\n",
    "    delta_cmd = MsgDelta()\n",
    "    delta_cmd.copy(trim_input)\n",
    "\n",
    "    # Excite the phugoid mode\n",
    "    delta_cmd.elevator += input_signal.doublet(sim_time)\n",
    "    return delta_cmd\n",
    "\n",
    "# Run the command\n",
    "run_sim_and_display(excite_phugoid, trim_state)"
   ]
  },
  {
   "cell_type": "markdown",
   "metadata": {},
   "source": [
    "## Problem 7 - Roll and spiral divergence modes\n",
    "For the trim trajectory corresponding to $V_a = 25 \\frac{m}{s}$ and $\\gamma = 0$, use a doublet to excite the roll and spiral divergence modes."
   ]
  },
  {
   "cell_type": "code",
   "execution_count": null,
   "metadata": {},
   "outputs": [],
   "source": [
    "print(\"Need to implement\")"
   ]
  },
  {
   "attachments": {},
   "cell_type": "markdown",
   "metadata": {},
   "source": [
    "## Problem 8 - Dutch roll mode\n",
    "For the trim trajectory corresponding to $V_a = 25 \\frac{m}{s}$ and $\\gamma = 0$, use a doublet to excite the dutch roll mode."
   ]
  },
  {
   "cell_type": "code",
   "execution_count": null,
   "metadata": {},
   "outputs": [],
   "source": [
    "print(\"Need to implement\")"
   ]
  },
  {
   "attachments": {},
   "cell_type": "markdown",
   "metadata": {},
   "source": [
    "## Static analysis\n",
    "Run the static code analysis (you must have zero static code analysis errors to get credit). You may not modify the static code analysis configuration files.\n",
    "\n",
    "### ISORT\n",
    "Run Isort:\n",
    "```\n",
    "python -m isort mav_sim book_assignments\n",
    "```\n",
    "\n",
    "Terminal output (should be nothing):\n",
    "\n",
    "### MyPy\n",
    "Run MyPy\n",
    "```\n",
    "python -m mypy mav_sim/chap2/ mav_sim/chap3/ mav_sim/chap4/ mav_sim/chap5/ book_assignments\n",
    "```\n",
    "\n",
    "Terminal output (should indicate no error):\n",
    "```\n",
    "(put results here)\n",
    "```\n",
    "\n",
    "### Pylint\n",
    "Run Pylint\n",
    "```\n",
    "python -m pylint --jobs 0 --rcfile .pylintrc mav_sim/chap2/ mav_sim/chap3/ mav_sim/chap4/ mav_sim/chap5/ book_assignments/\n",
    "```\n",
    "\n",
    "Terminal output (should indicate `10/10`)\n",
    "```\n",
    "(put results here)\n",
    "```"
   ]
  },
  {
   "attachments": {},
   "cell_type": "markdown",
   "metadata": {},
   "source": [
    "## Simple code checking\n",
    "The following code does not need to change. It should just be used as a sanity check so that you know the code is implemented properly. The output should not have any lines reading `Failed test!`\n",
    "\n",
    "Note that due to the random nature of the test, you may get a warning stating\n",
    "```\n",
    "RuntimeWarning: invalid value encountered in sqrt\n",
    "  omega_p = (-b + np.sqrt(b**2 - 4*a*c)) / (2.*a)\n",
    "```\n",
    "Just ignore that warning."
   ]
  },
  {
   "cell_type": "code",
   "execution_count": 1,
   "metadata": {},
   "outputs": [
    {
     "name": "stdout",
     "output_type": "stream",
     "text": [
      "\n",
      "Starting velocity_constraint test\n",
      "Passed test on velocity_constraint\n",
      "\n",
      "Starting velocity_constraint_partial test\n",
      "Passed test on velocity_constraint_partial\n",
      "\n",
      "Starting variable_bounds test\n",
      "Passed test on variable_bounds\n",
      "\n",
      "Starting trim_objective_fun test\n",
      "\n",
      "\n",
      "Failed test!\n",
      "test:\n",
      " Inputs:x:\n",
      "[[  -2.38635194]\n",
      " [  49.92625267]\n",
      " [ -21.95371822]\n",
      " [ 149.78395522]\n",
      " [  37.0972791 ]\n",
      " [   6.52978688]\n",
      " [-161.20200268]\n",
      " [ 177.50236387]\n",
      " [ -65.70763264]\n",
      " [  82.12140769]\n",
      " [  -6.83748063]\n",
      " [-109.25412248]\n",
      " [ -94.23242619]\n",
      " [-127.01065946]\n",
      " [ 171.80485175]\n",
      " [  26.38023671]]\n",
      "Va: -6.886805834490349\n",
      "gamma: 0.0\n",
      "R: inf\n",
      "psi_weight: -596071.0083686879\n",
      "Output\n",
      "out: -319328759647508.25 \n",
      "actual out:  -319328759647508.4\n",
      "\n",
      "\n",
      "Failed test!\n",
      "test:\n",
      " Inputs:x:\n",
      "[[-119.43437879]\n",
      " [ -97.52882053]\n",
      " [-125.85223176]\n",
      " [  -9.22532941]\n",
      " [-103.84542984]\n",
      " [   4.49883923]\n",
      " [   8.41640759]\n",
      " [ -32.97831845]\n",
      " [  24.76318113]\n",
      " [-171.05372449]\n",
      " [ 204.35252213]\n",
      " [  80.85881326]\n",
      " [  43.26390657]\n",
      " [  43.7342203 ]\n",
      " [ 161.54462364]\n",
      " [  -0.56332944]]\n",
      "Va: -28.088204940241535\n",
      "gamma: -0.0649413341935869\n",
      "R: inf\n",
      "psi_weight: 812954.0000614614\n",
      "Output\n",
      "out: 193805662803084.7 \n",
      "actual out:  193805662803084.75\n",
      "\n",
      "\n",
      "Failed test!\n",
      "test:\n",
      " Inputs:x:\n",
      "[[-183.25724102]\n",
      " [  95.41747442]\n",
      " [  29.63730746]\n",
      " [ -48.45958907]\n",
      " [ 137.13894199]\n",
      " [ -33.83014905]\n",
      " [  52.87435098]\n",
      " [  23.54579428]\n",
      " [ 167.8859825 ]\n",
      " [ 107.41067011]\n",
      " [  21.37867746]\n",
      " [-190.25166697]\n",
      " [ -51.8525375 ]\n",
      " [ 224.73889932]\n",
      " [ -56.74070765]\n",
      " [ 110.67355841]]\n",
      "Va: 26.902178037750133\n",
      "gamma: -1.049149857561313\n",
      "R: -90.29716451932734\n",
      "psi_weight: -407667.1462343309\n",
      "Output\n",
      "out: -46674415133493.32 \n",
      "actual out:  -46674415133493.336\n",
      "\n",
      "\n",
      "Failed test!\n",
      "test:\n",
      " Inputs:x:\n",
      "[[  62.15496614]\n",
      " [ -31.81296133]\n",
      " [ -95.31241597]\n",
      " [ -42.20057315]\n",
      " [  49.63802013]\n",
      " [  11.535054  ]\n",
      " [ -69.9546835 ]\n",
      " [-180.6627224 ]\n",
      " [ -36.88208173]\n",
      " [  44.08746982]\n",
      " [-181.33482375]\n",
      " [ 123.49269633]\n",
      " [ -52.9334375 ]\n",
      " [-140.67368421]\n",
      " [ -52.63393443]\n",
      " [  61.26651631]]\n",
      "Va: 22.335811620558417\n",
      "gamma: 0.0\n",
      "R: 993.041343834255\n",
      "psi_weight: 1492997.3599068224\n",
      "Output\n",
      "out: 157926813067291.22 \n",
      "actual out:  157926813067291.16\n"
     ]
    }
   ],
   "source": [
    "from mav_sim.unit_tests.ch5_dynamics_test import run_auto_tests, VelocityConstraintTest, VelocityConstraintPartialTest, VariableBoundsTest, TrimObjectiveFunTest\n",
    "run_auto_tests()"
   ]
  }
 ],
 "metadata": {
  "kernelspec": {
   "display_name": "mav_venv",
   "language": "python",
   "name": "python3"
  },
  "language_info": {
   "codemirror_mode": {
    "name": "ipython",
    "version": 3
   },
   "file_extension": ".py",
   "mimetype": "text/x-python",
   "name": "python",
   "nbconvert_exporter": "python",
   "pygments_lexer": "ipython3",
   "version": "3.10.1"
  },
  "orig_nbformat": 4,
  "vscode": {
   "interpreter": {
    "hash": "fce2dbb18319ebf9038468f3349af8b308ee8dc85e2187295367618fa8e1a6cd"
   }
  }
 },
 "nbformat": 4,
 "nbformat_minor": 2
}
