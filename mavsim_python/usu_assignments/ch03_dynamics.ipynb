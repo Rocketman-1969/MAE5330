{
 "cells": [
  {
   "attachments": {},
   "cell_type": "markdown",
   "metadata": {},
   "source": [
    "## Problem 0: Implementation\n",
    "Implement the `derivatives` function in `chap3/mav_dynamics.py`using the quaternion form of the dynamics described in equations *(B.1)* through *(B.6)* of *Appendix B* in the book. Note that the dynamics utilized are from the Aerosonde UAV from Table E.2. The first column of these parameters should provide / aid your intuition about what is occuring.\n",
    "\n",
    "Below are some useful code snippets and hints:\n",
    "* *st = DynamicState(state):* Extract the numpy matrix into a struct for easy access of states. Note that the *DynamicsState* struct is defined on line 46.\n",
    "* *fm = ForceMoments(forces_moments):* Extract forces and moments into a struct for easy access. Note that the *ForceMoments* struct is defined on line 124.\n",
    "* The momemtum terms are defined in *mav_sim.parameters.aerosonde_parameters.py* and are imported as MAV (i.e., to get $\\Gamma_1$, call *MAV.gamma1*)\n",
    "* Equation *(3.14)* can be used instead of *(B.1)* by converting the quaternion to a rotation matrix using *Quaternion2Rotation(state[IND.QUAT])*\n",
    "* The velocity values can be extracted as a vector as *state[IND.VEL]*\n",
    "\n",
    "## Problem 1: No Inputs, Zero Initial Conditions\n",
    "For this problem, you will test the dynamics function with no input forces and torques, and all initial velocities set to zero. Set the initial conditions such that the vehicle starts at zero north and east position, and an altitude of 5 meters.  Set the initial attitude (yaw) to $\\frac{\\pi}{4}$ and zero roll and pitch.  Set all velocities to zero.\n",
    "\n",
    "### Question: What behavior do you expect (try to be explicit in terms of what different states will do)?\n",
    "**Answer:** The aircraft states will all remain the same except for the altitude. The altitude will decrease because there is no lift on the wings. \n",
    "\n",
    "### Question: Was the behavior as expected? If not, what did you observe differently from what you thought you would? Why did this difference occur?\n",
    "**Answer:** (Answer after completion)"
   ]
  },
  {
   "cell_type": "code",
   "execution_count": 1,
   "metadata": {},
   "outputs": [
    {
     "name": "stdout",
     "output_type": "stream",
     "text": [
      "Initializing mav_view\n",
      "Initializing data_view\n"
     ]
    }
   ],
   "source": [
    "# Note that this cell can be run separately to initialize for other cell blocks\n",
    "from mav_sim.chap3.mav_dynamics import DynamicState, ForceMoments\n",
    "from mav_sim.chap3.run_sim import run_sim\n",
    "from mav_sim.message_types.msg_sim_params import MsgSimParams\n",
    "from mav_sim.tools.display_figures import display_data_view, display_mav_view\n",
    "from mav_sim.chap2.mav_viewer import MavViewer\n",
    "from mav_sim.chap3.data_viewer import DataViewer\n",
    "import numpy as np\n",
    "\n",
    "# The viewers need to be initialized once due to restart issues with qtgraph\n",
    "if 'mav_view' not in globals():\n",
    "    print(\"Initializing mav_view\")\n",
    "    global mav_view\n",
    "    mav_view = MavViewer()  # initialize the mav viewer\n",
    "if 'data_view' not in globals():\n",
    "    print(\"Initializing data_view\")\n",
    "    global data_view\n",
    "    data_view = DataViewer()  # initialize view of data plots\n",
    "\n",
    "def run_sim_and_display(sim_params, state, fm):\n",
    "    global mav_view\n",
    "    global data_view\n",
    "    data_view.reset(sim_params.start_time)\n",
    "    (mav_view, data_view) = run_sim(sim_params, state, fm, mav_view, data_view)\n",
    "    display_data_view(data_view)\n",
    "    display_mav_view(mav_view)"
   ]
  },
  {
   "cell_type": "code",
   "execution_count": 2,
   "metadata": {},
   "outputs": [
    {
     "name": "stdout",
     "output_type": "stream",
     "text": [
      "Press Command-Q to exit...\n"
     ]
    },
    {
     "ename": "TypeError",
     "evalue": "unsupported operand type(s) for ^: 'float' and 'float'",
     "output_type": "error",
     "traceback": [
      "\u001b[1;31m---------------------------------------------------------------------------\u001b[0m",
      "\u001b[1;31mTypeError\u001b[0m                                 Traceback (most recent call last)",
      "Cell \u001b[1;32mIn[2], line 9\u001b[0m\n\u001b[0;32m      6\u001b[0m fm \u001b[39m=\u001b[39m ForceMoments(force_moment\u001b[39m=\u001b[39mnp\u001b[39m.\u001b[39mzeros([\u001b[39m6\u001b[39m,\u001b[39m1\u001b[39m])) \u001b[39m# Set all forces equal to zero\u001b[39;00m\n\u001b[0;32m      8\u001b[0m \u001b[39m# Run the simulation and display the data\u001b[39;00m\n\u001b[1;32m----> 9\u001b[0m run_sim_and_display(sim_params, state, fm)\n",
      "Cell \u001b[1;32mIn[1], line 24\u001b[0m, in \u001b[0;36mrun_sim_and_display\u001b[1;34m(sim_params, state, fm)\u001b[0m\n\u001b[0;32m     22\u001b[0m \u001b[39mglobal\u001b[39;00m data_view\n\u001b[0;32m     23\u001b[0m data_view\u001b[39m.\u001b[39mreset(sim_params\u001b[39m.\u001b[39mstart_time)\n\u001b[1;32m---> 24\u001b[0m (mav_view, data_view) \u001b[39m=\u001b[39m run_sim(sim_params, state, fm, mav_view, data_view)\n\u001b[0;32m     25\u001b[0m display_data_view(data_view)\n\u001b[0;32m     26\u001b[0m display_mav_view(mav_view)\n",
      "File \u001b[1;32m~\\Desktop\\MAE5330\\mavsim_python\\mav_sim\\chap3\\run_sim.py:55\u001b[0m, in \u001b[0;36mrun_sim\u001b[1;34m(sim, init_state, fm, mav_view, data_view)\u001b[0m\n\u001b[0;32m     52\u001b[0m forces_moments \u001b[39m=\u001b[39m fm\u001b[39m.\u001b[39mto_array()\n\u001b[0;32m     54\u001b[0m \u001b[39m# -------physical system-------------\u001b[39;00m\n\u001b[1;32m---> 55\u001b[0m mav\u001b[39m.\u001b[39;49mupdate(forces_moments)  \u001b[39m# propagate the MAV dynamics\u001b[39;00m\n\u001b[0;32m     57\u001b[0m \u001b[39m# -------update viewer-------------\u001b[39;00m\n\u001b[0;32m     58\u001b[0m \u001b[39mif\u001b[39;00m next_plot_time \u001b[39m<\u001b[39m\u001b[39m=\u001b[39m sim_time:\n",
      "File \u001b[1;32m~\\Desktop\\MAE5330\\mavsim_python\\mav_sim\\chap3\\mav_dynamics.py:233\u001b[0m, in \u001b[0;36mMavDynamics.update\u001b[1;34m(self, forces_moments, time_step)\u001b[0m\n\u001b[0;32m    230\u001b[0m     time_step \u001b[39m=\u001b[39m \u001b[39mself\u001b[39m\u001b[39m.\u001b[39mts_simulation\n\u001b[0;32m    232\u001b[0m \u001b[39m# Integrate ODE using Runge-Kutta RK4 algorithm\u001b[39;00m\n\u001b[1;32m--> 233\u001b[0m k1 \u001b[39m=\u001b[39m derivatives(\u001b[39mself\u001b[39;49m\u001b[39m.\u001b[39;49m_state, forces_moments)\n\u001b[0;32m    234\u001b[0m k2 \u001b[39m=\u001b[39m derivatives(\u001b[39mself\u001b[39m\u001b[39m.\u001b[39m_state \u001b[39m+\u001b[39m time_step\u001b[39m/\u001b[39m\u001b[39m2.\u001b[39m\u001b[39m*\u001b[39mk1, forces_moments)\n\u001b[0;32m    235\u001b[0m k3 \u001b[39m=\u001b[39m derivatives(\u001b[39mself\u001b[39m\u001b[39m.\u001b[39m_state \u001b[39m+\u001b[39m time_step\u001b[39m/\u001b[39m\u001b[39m2.\u001b[39m\u001b[39m*\u001b[39mk2, forces_moments)\n",
      "File \u001b[1;32m~\\Desktop\\MAE5330\\mavsim_python\\mav_sim\\chap3\\mav_dynamics.py:299\u001b[0m, in \u001b[0;36mderivatives\u001b[1;34m(state, forces_moments)\u001b[0m\n\u001b[0;32m    297\u001b[0m \u001b[39m# collect the derivative of the states\u001b[39;00m\n\u001b[0;32m    298\u001b[0m x_dot \u001b[39m=\u001b[39m np\u001b[39m.\u001b[39mempty( (IND\u001b[39m.\u001b[39mNUM_STATES,\u001b[39m1\u001b[39m) )\n\u001b[1;32m--> 299\u001b[0m x_dot[IND\u001b[39m.\u001b[39mNORTH] \u001b[39m=\u001b[39m st\u001b[39m.\u001b[39mu\u001b[39m*\u001b[39m(st\u001b[39m.\u001b[39;49me1\u001b[39m^\u001b[39;49m\u001b[39m2\u001b[39;49m\u001b[39m+\u001b[39;49mst\u001b[39m.\u001b[39;49me0\u001b[39m^\u001b[39m\u001b[39m2\u001b[39m\u001b[39m-\u001b[39mst\u001b[39m.\u001b[39me2\u001b[39m^\u001b[39m\u001b[39m2\u001b[39m\u001b[39m-\u001b[39mst\u001b[39m.\u001b[39me3\u001b[39m^\u001b[39m\u001b[39m2\u001b[39m)\u001b[39m+\u001b[39mst\u001b[39m.\u001b[39mv\u001b[39m*\u001b[39m(\u001b[39m2\u001b[39m\u001b[39m*\u001b[39m(st\u001b[39m.\u001b[39me1\u001b[39m*\u001b[39mst\u001b[39m.\u001b[39me2\u001b[39m-\u001b[39mst\u001b[39m.\u001b[39me3\u001b[39m*\u001b[39mst\u001b[39m.\u001b[39me0))\u001b[39m+\u001b[39mst\u001b[39m.\u001b[39mw\u001b[39m*\u001b[39m(\u001b[39m2\u001b[39m\u001b[39m*\u001b[39m(st\u001b[39m.\u001b[39me1\u001b[39m*\u001b[39mst\u001b[39m.\u001b[39me3\u001b[39m+\u001b[39mst\u001b[39m.\u001b[39me2\u001b[39m*\u001b[39mst\u001b[39m.\u001b[39me0))\n\u001b[0;32m    300\u001b[0m x_dot[IND\u001b[39m.\u001b[39mEAST] \u001b[39m=\u001b[39m st\u001b[39m.\u001b[39mu\u001b[39m*\u001b[39m(\u001b[39m2\u001b[39m\u001b[39m*\u001b[39m(st\u001b[39m.\u001b[39me1\u001b[39m*\u001b[39mst\u001b[39m.\u001b[39me2\u001b[39m+\u001b[39mst\u001b[39m.\u001b[39me3\u001b[39m*\u001b[39mst\u001b[39m.\u001b[39me0))\u001b[39m+\u001b[39mst\u001b[39m.\u001b[39mv\u001b[39m*\u001b[39m(st\u001b[39m.\u001b[39me2\u001b[39m^\u001b[39m\u001b[39m2\u001b[39m\u001b[39m+\u001b[39mst\u001b[39m.\u001b[39me0\u001b[39m^\u001b[39m\u001b[39m2\u001b[39m\u001b[39m-\u001b[39mst\u001b[39m.\u001b[39me1\u001b[39m^\u001b[39m\u001b[39m2\u001b[39m\u001b[39m-\u001b[39mst\u001b[39m.\u001b[39me3\u001b[39m^\u001b[39m\u001b[39m2\u001b[39m)\u001b[39m+\u001b[39mst\u001b[39m.\u001b[39mw\u001b[39m*\u001b[39m(\u001b[39m2\u001b[39m\u001b[39m*\u001b[39m(st\u001b[39m.\u001b[39me2\u001b[39m*\u001b[39mst\u001b[39m.\u001b[39me3\u001b[39m-\u001b[39mst\u001b[39m.\u001b[39me1\u001b[39m*\u001b[39mst\u001b[39m.\u001b[39me0))\n\u001b[0;32m    301\u001b[0m x_dot[IND\u001b[39m.\u001b[39mDOWN] \u001b[39m=\u001b[39m st\u001b[39m.\u001b[39mu\u001b[39m*\u001b[39m(\u001b[39m2\u001b[39m\u001b[39m*\u001b[39m(st\u001b[39m.\u001b[39me1\u001b[39m*\u001b[39mst\u001b[39m.\u001b[39me3\u001b[39m-\u001b[39mst\u001b[39m.\u001b[39me2\u001b[39m*\u001b[39mst\u001b[39m.\u001b[39me0))\u001b[39m+\u001b[39mst\u001b[39m.\u001b[39mv\u001b[39m*\u001b[39m(\u001b[39m2\u001b[39m\u001b[39m*\u001b[39m(st\u001b[39m.\u001b[39me2\u001b[39m*\u001b[39mst\u001b[39m.\u001b[39me3\u001b[39m+\u001b[39mst\u001b[39m.\u001b[39me1\u001b[39m*\u001b[39mst\u001b[39m.\u001b[39me0))\u001b[39m+\u001b[39mst\u001b[39m.\u001b[39mw\u001b[39m*\u001b[39m(st\u001b[39m.\u001b[39me3\u001b[39m^\u001b[39m\u001b[39m2\u001b[39m\u001b[39m+\u001b[39mst\u001b[39m.\u001b[39me0\u001b[39m^\u001b[39m\u001b[39m2\u001b[39m\u001b[39m-\u001b[39mst\u001b[39m.\u001b[39me1\u001b[39m^\u001b[39m\u001b[39m2\u001b[39m\u001b[39m-\u001b[39mst\u001b[39m.\u001b[39me2\u001b[39m^\u001b[39m\u001b[39m2\u001b[39m)\n",
      "\u001b[1;31mTypeError\u001b[0m: unsupported operand type(s) for ^: 'float' and 'float'"
     ]
    },
    {
     "ename": "",
     "evalue": "",
     "output_type": "error",
     "traceback": [
      "\u001b[1;31mThe Kernel crashed while executing code in the the current cell or a previous cell. Please review the code in the cell(s) to identify a possible cause of the failure. Click <a href='https://aka.ms/vscodeJupyterKernelCrash'>here</a> for more info. View Jupyter <a href='command:jupyter.viewOutput'>log</a> for further details."
     ]
    }
   ],
   "source": [
    "# Initialize the simulation parameters\n",
    "sim_params = MsgSimParams(end_time=20.) # Sim ending in 10 seconds\n",
    "state = DynamicState(state=np.zeros([13,1])) # State initialized to zeros\n",
    "state.down = -5.\n",
    "state.set_attitude_euler(0., 0., np.pi/4)\n",
    "fm = ForceMoments(force_moment=np.zeros([6,1])) # Set all forces equal to zero\n",
    "\n",
    "# Run the simulation and display the data\n",
    "run_sim_and_display(sim_params, state, fm)"
   ]
  },
  {
   "attachments": {},
   "cell_type": "markdown",
   "metadata": {},
   "source": [
    "## Problem 2: No Inputs, Non-Zero Initial Conditions\n",
    "For this problem, you will test the dynamics function with no input forces and torques. Set the initial velocities such that the UAV is flying straight at $1 \\frac{m}{s}$. Set the initial conditions such that the vehicle starts at zero north, zero east, and an altitude of 5 meters.  Set the initial attitude (yaw) to $\\frac{\\pi}{4}$ with zero roll and pitch.  \n",
    "\n",
    "### Question: What behavior do you expect (try to be explicit in terms of what different states will do)?\n",
    "**Answer:** (Answer before completion)\n",
    "\n",
    "### Question: Was the behavior as expected? If not, what did you observe differently from what you thought you would? Why did this difference occur?\n",
    "**Answer:** (Answer after completion)"
   ]
  },
  {
   "cell_type": "code",
   "execution_count": null,
   "metadata": {},
   "outputs": [],
   "source": [
    "# Initialize the simulation parameters\n",
    "sim_params = MsgSimParams(end_time=20.) # Sim ending in 10 seconds\n",
    "state = DynamicState(state=np.zeros([13,1])) # State initialized to zeros\n",
    "state.set_attitude_euler(0., 0., 0.)\n",
    "fm = ForceMoments(force_moment=np.zeros([6,1])) # Set all forces equal to zero\n",
    "print('Need to choose parameters')\n",
    "\n",
    "# Run the simulation and display the data\n",
    "run_sim_and_display(sim_params, state, fm)"
   ]
  },
  {
   "attachments": {},
   "cell_type": "markdown",
   "metadata": {},
   "source": [
    "## Problem 3: No Inputs, Non-Zero Initial Rotational Velocities\n",
    "For this problem, you will test the dynamics function with no input forces and torques, but with initial rotational velocities. Set the initial velocities such that the UAV is at rest. Set the initial conditions such that the vehicle starts at zero north, zero east, and an altitude of 5 meters.  Set the initial attitude (yaw) to $\\frac{\\pi}{4}$ with zero roll and pitch. Set the initial roll rate to $0.5$ 0.5 rad/s.\n",
    "\n",
    "### Question: What behavior do you expect (try to be explicit in terms of what different states will do)?\n",
    "**Answer:** (Answer before completion)\n",
    "\n",
    "### Question: Was the behavior as expected? If not, what did you observe differently from what you thought you would? Why did this difference occur?\n",
    "**Answer:** (Answer after completion)"
   ]
  },
  {
   "cell_type": "code",
   "execution_count": null,
   "metadata": {},
   "outputs": [],
   "source": [
    "# Initialize the simulation parameters\n",
    "sim_params = MsgSimParams(end_time=20.) # Sim ending in 10 seconds\n",
    "state = DynamicState(state=np.zeros([13,1])) # State initialized to zeros\n",
    "state.set_attitude_euler(0., 0., 0.)\n",
    "fm = ForceMoments(force_moment=np.zeros([6,1])) # Set all forces equal to zero\n",
    "print('Need to choose parameters')\n",
    "\n",
    "# Run the simulation and display the data\n",
    "run_sim_and_display(sim_params, state, fm)"
   ]
  },
  {
   "attachments": {},
   "cell_type": "markdown",
   "metadata": {},
   "source": [
    "## Problem 4: Constant Force Inputs\n",
    "For this problem, you will test the dynamics function with zero initial conditions and constant force inputs. Set the initial conditions such that the vehicle starts at zero north and east position, and an altitude of 5 meters.  Set the initial attitude (yaw) to $\\frac{\\pi}{4}$ and zero roll and pitch.  Set all velocities to zero. Define the input forces to $0.1 $ Newton in the direction of $i^b$ and $0.5$ Newton in an upwards direction.\n",
    "\n",
    "### Question: What behavior do you expect (try to be explicit in terms of what different states will do)?\n",
    "**Answer:** (Answer before completion)\n",
    "\n",
    "### Question: Was the behavior as expected? If not, what did you observe differently from what you thought you would? Why did this difference occur?\n",
    "**Answer:** (Answer after completion)"
   ]
  },
  {
   "cell_type": "code",
   "execution_count": null,
   "metadata": {},
   "outputs": [],
   "source": [
    "# Initialize the simulation parameters\n",
    "sim_params = MsgSimParams(end_time=20.) # Sim ending in 10 seconds\n",
    "state = DynamicState(state=np.zeros([13,1])) # State initialized to zeros\n",
    "state.set_attitude_euler(0., 0., 0.)\n",
    "fm = ForceMoments(force_moment=np.zeros([6,1])) # Set all forces equal to zero\n",
    "print('Need to choose parameters')\n",
    "\n",
    "# Run the simulation and display the data\n",
    "run_sim_and_display(sim_params, state, fm)"
   ]
  },
  {
   "attachments": {},
   "cell_type": "markdown",
   "metadata": {},
   "source": [
    "## Problem 5: Constant Torque Inputs\n",
    "For this problem, you will test the dynamics function with zero initial conditions and constant force inputs. Set the initial conditions such that the vehicle starts at zero north and east position, and an altitude of 5 meters.  Set the initial attitude (yaw) to $\\frac{\\pi}{4}$ and zero roll and pitch.  Set all velocities to zero. Define the torque about the $x$-axis as 0.1 with all other torques and forces zeroed out.\n",
    "\n",
    "### Question: What behavior do you expect (try to be explicit in terms of what different states will do)?\n",
    "**Answer:** (Answer before completion)\n",
    "\n",
    "### Question: Was the behavior as expected? If not, what did you observe differently from what you thought you would? Why did this difference occur?\n",
    "**Answer:** (Answer after completion)"
   ]
  },
  {
   "cell_type": "code",
   "execution_count": null,
   "metadata": {},
   "outputs": [],
   "source": [
    "# Initialize the simulation parameters\n",
    "sim_params = MsgSimParams(end_time=20.) # Sim ending in 10 seconds\n",
    "state = DynamicState(state=np.zeros([13,1])) # State initialized to zeros\n",
    "state.set_attitude_euler(0., 0., 0.)\n",
    "fm = ForceMoments(force_moment=np.zeros([6,1])) # Set all forces equal to zero\n",
    "print('Need to choose parameters')\n",
    "\n",
    "# Run the simulation and display the data\n",
    "run_sim_and_display(sim_params, state, fm)"
   ]
  },
  {
   "attachments": {},
   "cell_type": "markdown",
   "metadata": {},
   "source": [
    "## Static analysis\n",
    "Run the static code analysis (you must have zero static code analysis errors to get credit). You may not modify the static code analysis configuration files.\n",
    "\n",
    "### ISORT\n",
    "Run Isort:\n",
    "```\n",
    "python -m isort mav_sim book_assignments\n",
    "```\n",
    "\n",
    "Terminal output (should be nothing):\n",
    "\n",
    "### MyPy\n",
    "Run MyPy\n",
    "```\n",
    "python -m mypy mav_sim/chap2/ mav_sim/chap3/ book_assignments\n",
    "```\n",
    "\n",
    "Terminal output (should indicate no error):\n",
    "```\n",
    "(Put output here)\n",
    "```\n",
    "\n",
    "### Pylint\n",
    "Run Pylint\n",
    "```\n",
    "python -m pylint --jobs 0 --rcfile .pylintrc mav_sim/chap2/ mav_sim/chap3/ book_assignments/\n",
    "```\n",
    "\n",
    "Terminal output (should indicate `10/10`)\n",
    "```\n",
    "(Put output here)\n",
    "```"
   ]
  },
  {
   "cell_type": "markdown",
   "metadata": {},
   "source": [
    "## Simple code checking\n",
    "The following code does not need to change. It should just be used as a sanity check so that you know the code is implemented properly. The output should not have any lines reading `Failed test!`"
   ]
  },
  {
   "cell_type": "code",
   "execution_count": 3,
   "metadata": {},
   "outputs": [
    {
     "name": "stdout",
     "output_type": "stream",
     "text": [
      "\n",
      "Starting derivatives_euler test\n"
     ]
    },
    {
     "ename": "AttributeError",
     "evalue": "'str' object has no attribute 'state'",
     "output_type": "error",
     "traceback": [
      "\u001b[1;31m---------------------------------------------------------------------------\u001b[0m",
      "\u001b[1;31mAttributeError\u001b[0m                            Traceback (most recent call last)",
      "Cell \u001b[1;32mIn[3], line 2\u001b[0m\n\u001b[0;32m      1\u001b[0m \u001b[39mfrom\u001b[39;00m \u001b[39mmav_sim\u001b[39;00m\u001b[39m.\u001b[39;00m\u001b[39munit_tests\u001b[39;00m\u001b[39m.\u001b[39;00m\u001b[39mch3_derivatives_test\u001b[39;00m \u001b[39mimport\u001b[39;00m euler_derivatives_test\n\u001b[1;32m----> 2\u001b[0m euler_derivatives_test(\u001b[39m'\u001b[39;49m\u001b[39mtests\u001b[39;49m\u001b[39m'\u001b[39;49m)\n",
      "File \u001b[1;32m~\\Desktop\\MAE5330\\mavsim_python\\mav_sim\\unit_tests\\ch3_derivatives_test.py:28\u001b[0m, in \u001b[0;36meuler_derivatives_test\u001b[1;34m(tests, threshold)\u001b[0m\n\u001b[0;32m     25\u001b[0m success \u001b[39m=\u001b[39m \u001b[39mTrue\u001b[39;00m\n\u001b[0;32m     26\u001b[0m \u001b[39mfor\u001b[39;00m test \u001b[39min\u001b[39;00m tests:\n\u001b[0;32m     27\u001b[0m     \u001b[39m# Generate the output\u001b[39;00m\n\u001b[1;32m---> 28\u001b[0m     xdot \u001b[39m=\u001b[39m derivatives_euler(state\u001b[39m=\u001b[39mtest\u001b[39m.\u001b[39;49mstate, forces_moments\u001b[39m=\u001b[39mtest\u001b[39m.\u001b[39mforces_moments)\n\u001b[0;32m     30\u001b[0m     \u001b[39m# Compare the output with the result\u001b[39;00m\n\u001b[0;32m     31\u001b[0m     diff \u001b[39m=\u001b[39m np\u001b[39m.\u001b[39mlinalg\u001b[39m.\u001b[39mnorm(xdot \u001b[39m-\u001b[39m test\u001b[39m.\u001b[39mxdot)\n",
      "\u001b[1;31mAttributeError\u001b[0m: 'str' object has no attribute 'state'"
     ]
    }
   ],
   "source": [
    "from mav_sim.unit_tests.ch3_derivatives_test import derivatives_test\n",
    "derivatives_test()"
   ]
  }
 ],
 "metadata": {
  "kernelspec": {
   "display_name": "mav_venv",
   "language": "python",
   "name": "python3"
  },
  "language_info": {
   "codemirror_mode": {
    "name": "ipython",
    "version": 3
   },
   "file_extension": ".py",
   "mimetype": "text/x-python",
   "name": "python",
   "nbconvert_exporter": "python",
   "pygments_lexer": "ipython3",
   "version": "3.10.6"
  },
  "orig_nbformat": 4,
  "vscode": {
   "interpreter": {
    "hash": "5b73fd72c1fc45f383771d39cc0de501927e0a93f151ee55d7575391249f3932"
   }
  }
 },
 "nbformat": 4,
 "nbformat_minor": 2
}
